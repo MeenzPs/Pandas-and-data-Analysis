{
 "cells": [
  {
   "cell_type": "code",
   "execution_count": 2,
   "metadata": {
    "collapsed": true
   },
   "outputs": [],
   "source": [
    "import numpy as np\n",
    "import pandas as pd\n",
    "from pandas import DataFrame,Series\n",
    "from numpy.random import randn"
   ]
  },
  {
   "cell_type": "code",
   "execution_count": 3,
   "metadata": {
    "collapsed": false
   },
   "outputs": [
    {
     "data": {
      "text/plain": [
       "A    1\n",
       "B    2\n",
       "C    3\n",
       "D    4\n",
       "dtype: int64"
      ]
     },
     "execution_count": 3,
     "metadata": {},
     "output_type": "execute_result"
    }
   ],
   "source": [
    "ser1 = Series([1,2,3,4],index = ['A','B','C','D'])\n",
    "ser1"
   ]
  },
  {
   "cell_type": "code",
   "execution_count": 4,
   "metadata": {
    "collapsed": false
   },
   "outputs": [
    {
     "data": {
      "text/plain": [
       "A     1\n",
       "B     2\n",
       "C     3\n",
       "D     4\n",
       "E   NaN\n",
       "F   NaN\n",
       "dtype: float64"
      ]
     },
     "execution_count": 4,
     "metadata": {},
     "output_type": "execute_result"
    }
   ],
   "source": [
    "ser2 = ser1.reindex(['A','B','C','D','E','F'])\n",
    "ser2"
   ]
  },
  {
   "cell_type": "code",
   "execution_count": 5,
   "metadata": {
    "collapsed": false
   },
   "outputs": [
    {
     "data": {
      "text/plain": [
       "A     1\n",
       "B     2\n",
       "C     3\n",
       "D     4\n",
       "E   NaN\n",
       "F   NaN\n",
       "G     0\n",
       "dtype: float64"
      ]
     },
     "execution_count": 5,
     "metadata": {},
     "output_type": "execute_result"
    }
   ],
   "source": [
    "ser2.reindex(['A','B','C','D','E','F','G'],fill_value=0)"
   ]
  },
  {
   "cell_type": "code",
   "execution_count": 6,
   "metadata": {
    "collapsed": false
   },
   "outputs": [
    {
     "data": {
      "text/plain": [
       "0        USA\n",
       "5     Mexico\n",
       "10    Canada\n",
       "dtype: object"
      ]
     },
     "execution_count": 6,
     "metadata": {},
     "output_type": "execute_result"
    }
   ],
   "source": [
    "ser3 = Series(['USA','Mexico','Canada'],index=[0,5,10])\n",
    "ser3"
   ]
  },
  {
   "cell_type": "code",
   "execution_count": 7,
   "metadata": {
    "collapsed": false
   },
   "outputs": [
    {
     "data": {
      "text/plain": [
       "0        USA\n",
       "1        USA\n",
       "2        USA\n",
       "3        USA\n",
       "4        USA\n",
       "5     Mexico\n",
       "6     Mexico\n",
       "7     Mexico\n",
       "8     Mexico\n",
       "9     Mexico\n",
       "10    Canada\n",
       "11    Canada\n",
       "12    Canada\n",
       "13    Canada\n",
       "14    Canada\n",
       "dtype: object"
      ]
     },
     "execution_count": 7,
     "metadata": {},
     "output_type": "execute_result"
    }
   ],
   "source": [
    "ser3.reindex(range(15),method ='ffill')"
   ]
  },
  {
   "cell_type": "code",
   "execution_count": 8,
   "metadata": {
    "collapsed": false
   },
   "outputs": [
    {
     "data": {
      "text/html": [
       "<div>\n",
       "<table border=\"1\" class=\"dataframe\">\n",
       "  <thead>\n",
       "    <tr style=\"text-align: right;\">\n",
       "      <th></th>\n",
       "      <th>Col1</th>\n",
       "      <th>col2</th>\n",
       "      <th>col3</th>\n",
       "      <th>col4</th>\n",
       "      <th>col5</th>\n",
       "    </tr>\n",
       "  </thead>\n",
       "  <tbody>\n",
       "    <tr>\n",
       "      <th>A</th>\n",
       "      <td>-0.357169</td>\n",
       "      <td>-0.860256</td>\n",
       "      <td>0.455543</td>\n",
       "      <td>-1.617509</td>\n",
       "      <td>-0.299691</td>\n",
       "    </tr>\n",
       "    <tr>\n",
       "      <th>B</th>\n",
       "      <td>0.652740</td>\n",
       "      <td>-0.767593</td>\n",
       "      <td>3.332845</td>\n",
       "      <td>0.937131</td>\n",
       "      <td>0.682446</td>\n",
       "    </tr>\n",
       "    <tr>\n",
       "      <th>D</th>\n",
       "      <td>1.099527</td>\n",
       "      <td>0.401315</td>\n",
       "      <td>0.514628</td>\n",
       "      <td>0.636992</td>\n",
       "      <td>1.123022</td>\n",
       "    </tr>\n",
       "    <tr>\n",
       "      <th>E</th>\n",
       "      <td>-1.294701</td>\n",
       "      <td>0.988173</td>\n",
       "      <td>2.381706</td>\n",
       "      <td>0.366501</td>\n",
       "      <td>1.034736</td>\n",
       "    </tr>\n",
       "    <tr>\n",
       "      <th>F</th>\n",
       "      <td>1.497011</td>\n",
       "      <td>0.134512</td>\n",
       "      <td>0.503698</td>\n",
       "      <td>-0.428734</td>\n",
       "      <td>1.198254</td>\n",
       "    </tr>\n",
       "  </tbody>\n",
       "</table>\n",
       "</div>"
      ],
      "text/plain": [
       "       Col1      col2      col3      col4      col5\n",
       "A -0.357169 -0.860256  0.455543 -1.617509 -0.299691\n",
       "B  0.652740 -0.767593  3.332845  0.937131  0.682446\n",
       "D  1.099527  0.401315  0.514628  0.636992  1.123022\n",
       "E -1.294701  0.988173  2.381706  0.366501  1.034736\n",
       "F  1.497011  0.134512  0.503698 -0.428734  1.198254"
      ]
     },
     "execution_count": 8,
     "metadata": {},
     "output_type": "execute_result"
    }
   ],
   "source": [
    "dframe = DataFrame(randn(25).reshape(5,5),index=['A','B','D','E','F'],columns=['Col1','col2','col3','col4','col5'])\n",
    "dframe"
   ]
  },
  {
   "cell_type": "code",
   "execution_count": 9,
   "metadata": {
    "collapsed": false
   },
   "outputs": [
    {
     "data": {
      "text/html": [
       "<div>\n",
       "<table border=\"1\" class=\"dataframe\">\n",
       "  <thead>\n",
       "    <tr style=\"text-align: right;\">\n",
       "      <th></th>\n",
       "      <th>Col1</th>\n",
       "      <th>col2</th>\n",
       "      <th>col3</th>\n",
       "      <th>col4</th>\n",
       "      <th>col5</th>\n",
       "    </tr>\n",
       "  </thead>\n",
       "  <tbody>\n",
       "    <tr>\n",
       "      <th>A</th>\n",
       "      <td>-0.357169</td>\n",
       "      <td>-0.860256</td>\n",
       "      <td>0.455543</td>\n",
       "      <td>-1.617509</td>\n",
       "      <td>-0.299691</td>\n",
       "    </tr>\n",
       "    <tr>\n",
       "      <th>B</th>\n",
       "      <td>0.652740</td>\n",
       "      <td>-0.767593</td>\n",
       "      <td>3.332845</td>\n",
       "      <td>0.937131</td>\n",
       "      <td>0.682446</td>\n",
       "    </tr>\n",
       "    <tr>\n",
       "      <th>C</th>\n",
       "      <td>NaN</td>\n",
       "      <td>NaN</td>\n",
       "      <td>NaN</td>\n",
       "      <td>NaN</td>\n",
       "      <td>NaN</td>\n",
       "    </tr>\n",
       "    <tr>\n",
       "      <th>D</th>\n",
       "      <td>1.099527</td>\n",
       "      <td>0.401315</td>\n",
       "      <td>0.514628</td>\n",
       "      <td>0.636992</td>\n",
       "      <td>1.123022</td>\n",
       "    </tr>\n",
       "    <tr>\n",
       "      <th>E</th>\n",
       "      <td>-1.294701</td>\n",
       "      <td>0.988173</td>\n",
       "      <td>2.381706</td>\n",
       "      <td>0.366501</td>\n",
       "      <td>1.034736</td>\n",
       "    </tr>\n",
       "    <tr>\n",
       "      <th>F</th>\n",
       "      <td>1.497011</td>\n",
       "      <td>0.134512</td>\n",
       "      <td>0.503698</td>\n",
       "      <td>-0.428734</td>\n",
       "      <td>1.198254</td>\n",
       "    </tr>\n",
       "  </tbody>\n",
       "</table>\n",
       "</div>"
      ],
      "text/plain": [
       "       Col1      col2      col3      col4      col5\n",
       "A -0.357169 -0.860256  0.455543 -1.617509 -0.299691\n",
       "B  0.652740 -0.767593  3.332845  0.937131  0.682446\n",
       "C       NaN       NaN       NaN       NaN       NaN\n",
       "D  1.099527  0.401315  0.514628  0.636992  1.123022\n",
       "E -1.294701  0.988173  2.381706  0.366501  1.034736\n",
       "F  1.497011  0.134512  0.503698 -0.428734  1.198254"
      ]
     },
     "execution_count": 9,
     "metadata": {},
     "output_type": "execute_result"
    }
   ],
   "source": [
    "dframe2 = dframe.reindex(['A','B','C','D','E','F'])\n",
    "dframe2"
   ]
  },
  {
   "cell_type": "code",
   "execution_count": 10,
   "metadata": {
    "collapsed": true
   },
   "outputs": [],
   "source": [
    "new_columns = ['col1','col2','col3','col4','col5','col6']"
   ]
  },
  {
   "cell_type": "code",
   "execution_count": 11,
   "metadata": {
    "collapsed": false
   },
   "outputs": [
    {
     "data": {
      "text/html": [
       "<div>\n",
       "<table border=\"1\" class=\"dataframe\">\n",
       "  <thead>\n",
       "    <tr style=\"text-align: right;\">\n",
       "      <th></th>\n",
       "      <th>col1</th>\n",
       "      <th>col2</th>\n",
       "      <th>col3</th>\n",
       "      <th>col4</th>\n",
       "      <th>col5</th>\n",
       "      <th>col6</th>\n",
       "    </tr>\n",
       "  </thead>\n",
       "  <tbody>\n",
       "    <tr>\n",
       "      <th>A</th>\n",
       "      <td>NaN</td>\n",
       "      <td>-0.860256</td>\n",
       "      <td>0.455543</td>\n",
       "      <td>-1.617509</td>\n",
       "      <td>-0.299691</td>\n",
       "      <td>NaN</td>\n",
       "    </tr>\n",
       "    <tr>\n",
       "      <th>B</th>\n",
       "      <td>NaN</td>\n",
       "      <td>-0.767593</td>\n",
       "      <td>3.332845</td>\n",
       "      <td>0.937131</td>\n",
       "      <td>0.682446</td>\n",
       "      <td>NaN</td>\n",
       "    </tr>\n",
       "    <tr>\n",
       "      <th>C</th>\n",
       "      <td>NaN</td>\n",
       "      <td>NaN</td>\n",
       "      <td>NaN</td>\n",
       "      <td>NaN</td>\n",
       "      <td>NaN</td>\n",
       "      <td>NaN</td>\n",
       "    </tr>\n",
       "    <tr>\n",
       "      <th>D</th>\n",
       "      <td>NaN</td>\n",
       "      <td>0.401315</td>\n",
       "      <td>0.514628</td>\n",
       "      <td>0.636992</td>\n",
       "      <td>1.123022</td>\n",
       "      <td>NaN</td>\n",
       "    </tr>\n",
       "    <tr>\n",
       "      <th>E</th>\n",
       "      <td>NaN</td>\n",
       "      <td>0.988173</td>\n",
       "      <td>2.381706</td>\n",
       "      <td>0.366501</td>\n",
       "      <td>1.034736</td>\n",
       "      <td>NaN</td>\n",
       "    </tr>\n",
       "    <tr>\n",
       "      <th>F</th>\n",
       "      <td>NaN</td>\n",
       "      <td>0.134512</td>\n",
       "      <td>0.503698</td>\n",
       "      <td>-0.428734</td>\n",
       "      <td>1.198254</td>\n",
       "      <td>NaN</td>\n",
       "    </tr>\n",
       "  </tbody>\n",
       "</table>\n",
       "</div>"
      ],
      "text/plain": [
       "   col1      col2      col3      col4      col5  col6\n",
       "A   NaN -0.860256  0.455543 -1.617509 -0.299691   NaN\n",
       "B   NaN -0.767593  3.332845  0.937131  0.682446   NaN\n",
       "C   NaN       NaN       NaN       NaN       NaN   NaN\n",
       "D   NaN  0.401315  0.514628  0.636992  1.123022   NaN\n",
       "E   NaN  0.988173  2.381706  0.366501  1.034736   NaN\n",
       "F   NaN  0.134512  0.503698 -0.428734  1.198254   NaN"
      ]
     },
     "execution_count": 11,
     "metadata": {},
     "output_type": "execute_result"
    }
   ],
   "source": [
    "dframe2.reindex(columns=new_columns)"
   ]
  },
  {
   "cell_type": "code",
   "execution_count": 12,
   "metadata": {
    "collapsed": false
   },
   "outputs": [
    {
     "data": {
      "text/html": [
       "<div>\n",
       "<table border=\"1\" class=\"dataframe\">\n",
       "  <thead>\n",
       "    <tr style=\"text-align: right;\">\n",
       "      <th></th>\n",
       "      <th>Col1</th>\n",
       "      <th>col2</th>\n",
       "      <th>col3</th>\n",
       "      <th>col4</th>\n",
       "      <th>col5</th>\n",
       "    </tr>\n",
       "  </thead>\n",
       "  <tbody>\n",
       "    <tr>\n",
       "      <th>A</th>\n",
       "      <td>-0.357169</td>\n",
       "      <td>-0.860256</td>\n",
       "      <td>0.455543</td>\n",
       "      <td>-1.617509</td>\n",
       "      <td>-0.299691</td>\n",
       "    </tr>\n",
       "    <tr>\n",
       "      <th>B</th>\n",
       "      <td>0.652740</td>\n",
       "      <td>-0.767593</td>\n",
       "      <td>3.332845</td>\n",
       "      <td>0.937131</td>\n",
       "      <td>0.682446</td>\n",
       "    </tr>\n",
       "    <tr>\n",
       "      <th>D</th>\n",
       "      <td>1.099527</td>\n",
       "      <td>0.401315</td>\n",
       "      <td>0.514628</td>\n",
       "      <td>0.636992</td>\n",
       "      <td>1.123022</td>\n",
       "    </tr>\n",
       "    <tr>\n",
       "      <th>E</th>\n",
       "      <td>-1.294701</td>\n",
       "      <td>0.988173</td>\n",
       "      <td>2.381706</td>\n",
       "      <td>0.366501</td>\n",
       "      <td>1.034736</td>\n",
       "    </tr>\n",
       "    <tr>\n",
       "      <th>F</th>\n",
       "      <td>1.497011</td>\n",
       "      <td>0.134512</td>\n",
       "      <td>0.503698</td>\n",
       "      <td>-0.428734</td>\n",
       "      <td>1.198254</td>\n",
       "    </tr>\n",
       "  </tbody>\n",
       "</table>\n",
       "</div>"
      ],
      "text/plain": [
       "       Col1      col2      col3      col4      col5\n",
       "A -0.357169 -0.860256  0.455543 -1.617509 -0.299691\n",
       "B  0.652740 -0.767593  3.332845  0.937131  0.682446\n",
       "D  1.099527  0.401315  0.514628  0.636992  1.123022\n",
       "E -1.294701  0.988173  2.381706  0.366501  1.034736\n",
       "F  1.497011  0.134512  0.503698 -0.428734  1.198254"
      ]
     },
     "execution_count": 12,
     "metadata": {},
     "output_type": "execute_result"
    }
   ],
   "source": [
    "dframe"
   ]
  },
  {
   "cell_type": "code",
   "execution_count": 13,
   "metadata": {
    "collapsed": false
   },
   "outputs": [
    {
     "data": {
      "text/html": [
       "<div>\n",
       "<table border=\"1\" class=\"dataframe\">\n",
       "  <thead>\n",
       "    <tr style=\"text-align: right;\">\n",
       "      <th></th>\n",
       "      <th>col1</th>\n",
       "      <th>col2</th>\n",
       "      <th>col3</th>\n",
       "      <th>col4</th>\n",
       "      <th>col5</th>\n",
       "      <th>col6</th>\n",
       "    </tr>\n",
       "  </thead>\n",
       "  <tbody>\n",
       "    <tr>\n",
       "      <th>A</th>\n",
       "      <td>NaN</td>\n",
       "      <td>-0.860256</td>\n",
       "      <td>0.455543</td>\n",
       "      <td>-1.617509</td>\n",
       "      <td>-0.299691</td>\n",
       "      <td>NaN</td>\n",
       "    </tr>\n",
       "    <tr>\n",
       "      <th>B</th>\n",
       "      <td>NaN</td>\n",
       "      <td>-0.767593</td>\n",
       "      <td>3.332845</td>\n",
       "      <td>0.937131</td>\n",
       "      <td>0.682446</td>\n",
       "      <td>NaN</td>\n",
       "    </tr>\n",
       "    <tr>\n",
       "      <th>C</th>\n",
       "      <td>NaN</td>\n",
       "      <td>NaN</td>\n",
       "      <td>NaN</td>\n",
       "      <td>NaN</td>\n",
       "      <td>NaN</td>\n",
       "      <td>NaN</td>\n",
       "    </tr>\n",
       "    <tr>\n",
       "      <th>D</th>\n",
       "      <td>NaN</td>\n",
       "      <td>0.401315</td>\n",
       "      <td>0.514628</td>\n",
       "      <td>0.636992</td>\n",
       "      <td>1.123022</td>\n",
       "      <td>NaN</td>\n",
       "    </tr>\n",
       "    <tr>\n",
       "      <th>E</th>\n",
       "      <td>NaN</td>\n",
       "      <td>0.988173</td>\n",
       "      <td>2.381706</td>\n",
       "      <td>0.366501</td>\n",
       "      <td>1.034736</td>\n",
       "      <td>NaN</td>\n",
       "    </tr>\n",
       "    <tr>\n",
       "      <th>F</th>\n",
       "      <td>NaN</td>\n",
       "      <td>0.134512</td>\n",
       "      <td>0.503698</td>\n",
       "      <td>-0.428734</td>\n",
       "      <td>1.198254</td>\n",
       "      <td>NaN</td>\n",
       "    </tr>\n",
       "  </tbody>\n",
       "</table>\n",
       "</div>"
      ],
      "text/plain": [
       "   col1      col2      col3      col4      col5  col6\n",
       "A   NaN -0.860256  0.455543 -1.617509 -0.299691   NaN\n",
       "B   NaN -0.767593  3.332845  0.937131  0.682446   NaN\n",
       "C   NaN       NaN       NaN       NaN       NaN   NaN\n",
       "D   NaN  0.401315  0.514628  0.636992  1.123022   NaN\n",
       "E   NaN  0.988173  2.381706  0.366501  1.034736   NaN\n",
       "F   NaN  0.134512  0.503698 -0.428734  1.198254   NaN"
      ]
     },
     "execution_count": 13,
     "metadata": {},
     "output_type": "execute_result"
    }
   ],
   "source": [
    "dframe.ix[['A','B','C','D','E','F'],new_columns]"
   ]
  },
  {
   "cell_type": "code",
   "execution_count": null,
   "metadata": {
    "collapsed": true
   },
   "outputs": [],
   "source": []
  }
 ],
 "metadata": {
  "kernelspec": {
   "display_name": "Python 2",
   "language": "python",
   "name": "python2"
  },
  "language_info": {
   "codemirror_mode": {
    "name": "ipython",
    "version": 2
   },
   "file_extension": ".py",
   "mimetype": "text/x-python",
   "name": "python",
   "nbconvert_exporter": "python",
   "pygments_lexer": "ipython2",
   "version": "2.7.9"
  }
 },
 "nbformat": 4,
 "nbformat_minor": 0
}
